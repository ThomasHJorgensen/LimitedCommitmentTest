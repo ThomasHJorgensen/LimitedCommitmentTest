{
 "cells": [
  {
   "cell_type": "code",
   "execution_count": null,
   "metadata": {},
   "outputs": [],
   "source": [
    "#TEST"
   ]
  },
  {
   "cell_type": "code",
   "execution_count": null,
   "metadata": {},
   "outputs": [],
   "source": [
    "%load_ext autoreload\n",
    "%load_ext line_profiler\n",
    "%autoreload 2\n",
    "\n",
    "import numpy as np\n",
    "import pandas as pd\n",
    "from mpl_toolkits import mplot3d\n",
    "import matplotlib\n",
    "import matplotlib.pyplot as plt\n",
    "import scipy.optimize as optimize\n",
    "import Estimate\n",
    "import figure \n",
    "from EconModel import cpptools\n",
    "import pickle\n",
    "\n",
    "from LimitedCommitmentModel import LimitedCommitmentModelClass\n",
    "\n",
    "# plot style\n",
    "linestyles = ['-','--','-.',':',':']\n",
    "markers = ['o','s','D','*','P']\n",
    "linewidth = 2\n",
    "font_size = 17\n",
    "font = {'size':font_size}\n",
    "matplotlib.rc('font', **font)\n",
    "\n",
    "\n",
    "plt.rcParams.update({'figure.max_open_warning': 0,'text.usetex': False})\n",
    "path = 'output/'\n",
    "\n",
    "SAVE = False\n",
    "\n",
    "# c++ settings\n",
    "\n",
    "do_compile = True\n",
    "threads = 20\n",
    "T = 20\n"
   ]
  },
  {
   "cell_type": "code",
   "execution_count": null,
   "metadata": {},
   "outputs": [],
   "source": [
    "name = 'model_FC'\n",
    "model_name = \"model_FC\"\n",
    "do_distr_yerror = \"none\"\n",
    "do_yerror = 0\n",
    "name_error = f'{do_distr_yerror}{do_yerror}std_Yerror'\n",
    "#N = 16000 #MODEL_LC \n",
    "#N = 4000 #model NC\n",
    "N = 9000\n",
    "#name_error = \"uni2std_Yerror\"\n",
    "\n",
    "specs = {}\n",
    "#specs.update({f'test2':{'latexname':'limited', 'par':{ 'T':T, 'num_K': 5, 'num_A': 10 ,  'do_HK': False, 'threads':threads,'bargaining':0}}})\n",
    "\n",
    "\n",
    "specs.update({f'model_LC':{'latexname':'limited', 'par':{ 'T':T, 'do_HK': False, 'simN': N,  'threads':threads,'bargaining':1}}})\n",
    "#specs.update({f'model_NC':{'latexname':'limited', 'par':{ 'T':T, 'do_HK': False, 'simN': N,  'threads':threads,'bargaining':2}}})\n",
    "#specs.update({f'model_FC':{'latexname':'limited', 'par':{ 'T':T,  'do_HK': False, 'simN': N,  'threads':threads,'bargaining':0}}})\n",
    "\n",
    "# solve different models\n",
    "models = {}\n",
    "for m,(name,spec) in enumerate(specs.items()):\n",
    "    \n",
    "    # setup model\n",
    "    model = LimitedCommitmentModelClass(name=name,par=spec['par'])\n",
    "    model.spec = spec\n",
    "\n",
    "    compile_now = True if do_compile & (m==0) else False\n",
    "    model.link_to_cpp(force_compile=compile_now)\n",
    "    \n",
    "\n",
    "# setup model\n",
    "#model = LimitedCommitmentModelClass(name=name)    \n",
    "#model.link_to_cpp(force_compile=True)\n",
    "\n",
    "\n",
    "#load par and sol\n",
    "pickle_file = f'output/{name}_sol.pickle'\n",
    "\n",
    "with open(pickle_file, 'rb') as f:\n",
    "    model.sol = pickle.load(f)\n",
    "\n",
    "pickle_file = f'output/{name}_par.pickle'\n",
    "\n",
    "with open(pickle_file, 'rb') as f:\n",
    "    model.par = pickle.load(f)\n",
    "    model.par.simN = N"
   ]
  },
  {
   "cell_type": "code",
   "execution_count": null,
   "metadata": {},
   "outputs": [],
   "source": [
    "data = Estimate.create_data(model,start_p = 2, end_p = model.par.T-2, yerror = do_distr_yerror, scale_st = do_yerror )\n",
    "data = Estimate.create_variable(data, model.par)\n",
    "data = Estimate.aux_est(data,model.par)\n",
    "\n",
    "data2 = data\n",
    "\n",
    "#data2 = data2[data2['delta_log_barganing']< 0.5]\n",
    "#data2 = data2[data2['delta_log_barganing']> -0.5]\n",
    "#data2 = data2[data2['delta_log_barganing']!= 0]\n",
    "\n",
    "\n",
    "_, wald_FC_w , wald_NC_w,  _,_,_ = Estimate.main_est(data,gender= \"w\", do_estimate_wage = \"est_omega\", print_reg = True, shadow_value_simple=2, do_control_love = False)\n",
    "   "
   ]
  },
  {
   "cell_type": "markdown",
   "metadata": {},
   "source": []
  },
  {
   "cell_type": "code",
   "execution_count": null,
   "metadata": {},
   "outputs": [],
   "source": [
    "#SUMMARIZE!! TORSDAG!!  N = 5000, FC: 5066 NC: 19,000 , LC: 21,000\n",
    "data2 = Estimate.create_data(model,start_p = 2, end_p = model.par.T-2, yerror = do_distr_yerror, scale_st = do_yerror )\n",
    "data2 = Estimate.create_variable(data2, model.par)\n",
    "data2['BMI_w']=data2['BMI_w']-1\n",
    "data2['BMI_m']=data2['BMI_m']-1\n",
    "summary = data2[['hours_w','hours_m','cons','wage_w','wage_m','earnings_w','earnings_m','wealth','BMI_w','BMI_m','barganing']].describe()\n",
    "summary_by_T = data2[['hours_w','hours_m','cons','wage_w','wage_m','earnings_w','earnings_m','wealth','BMI_w','BMI_m','barganing','t']].groupby('t').mean()\n",
    "summary_by_T['div_share'] = 1-data2[['hours_w','t']].groupby('t').count()/N\n",
    "\n",
    "print(summary)\n",
    "print(summary_by_T)\n",
    "\n",
    "summary.to_excel(f'summary_statistics_{name}.xlsx')\n",
    "summary_by_T.to_excel(f'summary_statistics_byT_{name}.xlsx')\n",
    "\n",
    "#print(summary_by_count)"
   ]
  },
  {
   "cell_type": "code",
   "execution_count": null,
   "metadata": {},
   "outputs": [],
   "source": []
  },
  {
   "cell_type": "code",
   "execution_count": null,
   "metadata": {},
   "outputs": [],
   "source": [
    "\n"
   ]
  },
  {
   "cell_type": "code",
   "execution_count": null,
   "metadata": {},
   "outputs": [],
   "source": []
  },
  {
   "cell_type": "code",
   "execution_count": null,
   "metadata": {},
   "outputs": [],
   "source": []
  },
  {
   "cell_type": "code",
   "execution_count": null,
   "metadata": {},
   "outputs": [],
   "source": []
  },
  {
   "cell_type": "code",
   "execution_count": null,
   "metadata": {},
   "outputs": [],
   "source": []
  },
  {
   "cell_type": "code",
   "execution_count": null,
   "metadata": {},
   "outputs": [],
   "source": []
  },
  {
   "cell_type": "code",
   "execution_count": null,
   "metadata": {},
   "outputs": [],
   "source": []
  },
  {
   "cell_type": "code",
   "execution_count": null,
   "metadata": {},
   "outputs": [],
   "source": []
  }
 ],
 "metadata": {
  "kernelspec": {
   "display_name": "base",
   "language": "python",
   "name": "python3"
  },
  "language_info": {
   "codemirror_mode": {
    "name": "ipython",
    "version": 3
   },
   "file_extension": ".py",
   "mimetype": "text/x-python",
   "name": "python",
   "nbconvert_exporter": "python",
   "pygments_lexer": "ipython3",
   "version": "3.8.18"
  }
 },
 "nbformat": 4,
 "nbformat_minor": 2
}
