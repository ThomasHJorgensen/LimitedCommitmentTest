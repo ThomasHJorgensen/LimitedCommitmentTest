{
 "cells": [
  {
   "cell_type": "code",
   "execution_count": null,
   "metadata": {},
   "outputs": [
    {
     "name": "stdout",
     "output_type": "stream",
     "text": [
      "The autoreload extension is already loaded. To reload it, use:\n",
      "  %reload_ext autoreload\n",
      "The line_profiler extension is already loaded. To reload it, use:\n",
      "  %reload_ext line_profiler\n"
     ]
    }
   ],
   "source": [
    "%load_ext autoreload\n",
    "%load_ext line_profiler\n",
    "%autoreload 2\n",
    "\n",
    "import numpy as np\n",
    "from mpl_toolkits import mplot3d\n",
    "import matplotlib\n",
    "import matplotlib.pyplot as plt\n",
    "import scipy.optimize as optimize\n",
    "\n",
    "from LimitedCommitmentModel import LimitedCommitmentModelClass\n",
    "\n",
    "# plot style\n",
    "linestyles = ['-','--','-.',':',':']\n",
    "markers = ['o','s','D','*','P']\n",
    "linewidth = 2\n",
    "font_size = 17\n",
    "font = {'size':font_size}\n",
    "matplotlib.rc('font', **font)\n",
    "\n",
    "plt.rcParams.update({'figure.max_open_warning': 0,'text.usetex': False})\n",
    "path = 'output/'\n",
    "\n",
    "SAVE = False\n",
    "\n",
    "# c++ settings\n",
    "do_compile = True\n",
    "threads = 40"
   ]
  },
  {
   "cell_type": "code",
   "execution_count": null,
   "metadata": {},
   "outputs": [],
   "source": [
    "# compile c++ files\n",
    "# model = LimitedCommitmentModelClass(par={'threads':threads })\n",
    "# model.link_to_cpp(force_compile=do_compile)"
   ]
  },
  {
   "cell_type": "markdown",
   "metadata": {},
   "source": [
    "# Solve and simulate from alternative models"
   ]
  },
  {
   "cell_type": "code",
   "execution_count": null,
   "metadata": {},
   "outputs": [],
   "source": [
    "# settings for models to solve\n",
    "T = 2\n",
    "specs = {\n",
    "    \n",
    "    'model_NC':{'latexname':'limited', 'par':{ 'T':T,  'do_HK': False, 'threads':threads,'bargaining':2}},\n",
    "    # 'model_LC':{'latexname':'limited', 'par':{ 'T':T,  'do_HK': False, 'threads':threads,'bargaining':1}},\n",
    "    # 'model_FC':{'latexname':'limited', 'par':{ 'T':T,  'do_HK': False, 'threads':threads,'bargaining':0}},\n",
    "\n",
    "}\n"
   ]
  },
  {
   "cell_type": "code",
   "execution_count": null,
   "metadata": {},
   "outputs": [],
   "source": [
    "# solve different models\n",
    "models = {}\n",
    "for m,(name,spec) in enumerate(specs.items()):\n",
    "    print(f'{name} loading...',end='')\n",
    "    \n",
    "    # setup model\n",
    "    models[name] = LimitedCommitmentModelClass(name=name,par=spec['par'])\n",
    "    models[name].spec = spec\n",
    "\n",
    "    compile_now = True if do_compile & (m==0) else False\n",
    "    models[name].link_to_cpp(force_compile=compile_now)\n",
    "    \n",
    "    print(' solving...')\n",
    "    %time models[name].solve() \n",
    "    # 2h 17min 10s"
   ]
  },
  {
   "cell_type": "code",
   "execution_count": null,
   "metadata": {},
   "outputs": [],
   "source": [
    "model = models['model_NC']\n",
    "sol = model.sol\n",
    "par = model.par\n",
    "sim = model.sim\n",
    "\n",
    "model.simulate()\n",
    "# now running with slight more weight on men in the non-interpolation part of no commitment hack"
   ]
  },
  {
   "cell_type": "code",
   "execution_count": null,
   "metadata": {},
   "outputs": [],
   "source": [
    "couple = sim.power>-0.5\n",
    "nans = np.nan + np.ones(couple.shape)\n",
    "nans[couple] =0.0\n",
    "plt.plot(np.nanmean(sim.power+nans,axis=0));\n",
    "plt.scatter(0,0.33474968)\n",
    "plt.scatter(0,0.66525032);"
   ]
  },
  {
   "cell_type": "code",
   "execution_count": null,
   "metadata": {},
   "outputs": [],
   "source": [
    "plt.plot(np.nanmean(sim.Zm,axis=0))\n",
    "plt.plot(np.nanmean(sim.Zw,axis=0))"
   ]
  },
  {
   "cell_type": "code",
   "execution_count": null,
   "metadata": {},
   "outputs": [],
   "source": [
    "# check singles policy functions\n",
    "diff = sol.Vw_single - sol.Vm_single\n",
    "plt.hist(diff[0].ravel(),bins=100);\n",
    "print(np.abs(diff[0]).max())"
   ]
  },
  {
   "cell_type": "code",
   "execution_count": null,
   "metadata": {},
   "outputs": [],
   "source": [
    "# tester\n",
    "t = par.T-1\n",
    "love = 0.0\n",
    "Aw = 0.1\n",
    "Am = 0.1\n",
    "Kw = 2.0\n",
    "Km = 2.0 \n",
    "iZw = 0\n",
    "iZm = 0\n",
    "power = model.cpp.calc_bargaining_weight(t,love,Aw,Am,Kw,Km,iZw,iZm,sol,par)"
   ]
  },
  {
   "cell_type": "code",
   "execution_count": null,
   "metadata": {},
   "outputs": [],
   "source": [
    "stop"
   ]
  },
  {
   "cell_type": "markdown",
   "metadata": {},
   "source": [
    "# Policy functions"
   ]
  },
  {
   "cell_type": "markdown",
   "metadata": {},
   "source": [
    "## Singles"
   ]
  },
  {
   "cell_type": "code",
   "execution_count": null,
   "metadata": {},
   "outputs": [],
   "source": [
    "model_list = ('model_NC','model_LC','model_FC',)\n",
    "# model_list = ('model 3, full',)\n",
    "sol_type ='single'\n",
    "par = models[model_list[0]].par\n",
    "iZ = 0\n",
    "cmaps = ('viridis','gray')\n",
    "for t in (0,):\n",
    "    for var in ('V','cons','labor'):\n",
    "        for sex in (1,2):\n",
    "            sex_str = 'w' if sex==1 else 'm'\n",
    "            if var not in ('V',):\n",
    "                sex_str = f'_{sex_str}'\n",
    "            var_now = var\n",
    "            var_now += f'{sex_str}_{sol_type}'\n",
    "            \n",
    "            fig = plt.figure()\n",
    "            ax = plt.axes(projection='3d')\n",
    "\n",
    "            grid_A = par.grid_Aw if sex==1 else par.grid_Am\n",
    "            X, Y = np.meshgrid(grid_A, par.grid_K,indexing='ij')\n",
    "            \n",
    "            for i,name in enumerate(model_list):\n",
    "                model = models[name]\n",
    "                \n",
    "                Z = getattr(model.sol,var_now)[t,iZ]\n",
    "                \n",
    "                #Z = getattr(model.sol,var)[t,:,iL,:,iKw,iKm]\n",
    "                \n",
    "                alpha = 0.5 if name=='model 1' else 0.7\n",
    "                ax.plot_surface(X, Y, Z,rstride=1,cstride=1,cmap=cmaps[i], edgecolor='none',alpha=alpha);\n",
    "                \n",
    "                ax.set(xlabel='$A_{j,t-1}$',ylabel='$K_{j,t}$');\n",
    "                \n",
    "            fig_name = f'sol {var_now} t{t}{sex_str}'\n",
    "            plt.tight_layout()\n",
    "            if SAVE: \n",
    "                plt.savefig(path+fig_name+'.pdf')\n",
    "            else:\n",
    "                ax.set(title=fig_name)"
   ]
  },
  {
   "cell_type": "markdown",
   "metadata": {},
   "source": [
    "## Couples\n",
    "Plot policy functions as a function of woman's power and household wealth"
   ]
  },
  {
   "cell_type": "code",
   "execution_count": null,
   "metadata": {},
   "outputs": [],
   "source": [
    "model_list = ('model_NC','model_LC','model_FC',)\n",
    "# model_list = ('model 3, full',)\n",
    "sol_type ='remain_couple'\n",
    "par = models[model_list[0]].par\n",
    "\n",
    "\n",
    "t = 0\n",
    "iK = 5\n",
    "iKw = iK\n",
    "iKm = iK\n",
    "iZw = 0\n",
    "iZm = 0\n",
    "\n",
    "print(np.mean(model.sol.cons_w_remain_couple[t].ravel())) # 10.351192584353102 t=T-1, 8.307694301145856 at t=T-2\n",
    "\n",
    "X, Y = np.meshgrid(par.grid_power, par.grid_A,indexing='ij')\n",
    "\n",
    "cmaps = ('viridis','gray')\n",
    "for iL in (par.num_love//2,): \n",
    "    for var in ('Vw','Vm','cons_w','cons_m','labor_w','labor_m','power'):\n",
    "        if var != 'power': \n",
    "            var += f'_{sol_type}'\n",
    "        \n",
    "        fig = plt.figure()\n",
    "        ax = plt.axes(projection='3d')\n",
    "        \n",
    "        for i,name in enumerate(model_list):\n",
    "            model = models[name]\n",
    "            \n",
    "            Z = getattr(model.sol,var)[t,iZw,iZm,:,iL,:,iKw,iKm]\n",
    "            \n",
    "            \n",
    "            alpha = 0.5 if name=='model 1' else 0.7\n",
    "            ax.plot_surface(X, Y, Z,rstride=1,cstride=1,cmap=cmaps[i], edgecolor='none',alpha=alpha);\n",
    "            \n",
    "            if var == 'power': \n",
    "                ax.set(zlim=[0.0,1.0])\n",
    "            ax.set(xlabel='$\\mu_{t-1}$',ylabel='$A_{t-1}$');\n",
    "            \n",
    "        fig_name = f'sol {var} t{t}_love{np.round(par.grid_love[iL]):1.2f}'\n",
    "        plt.tight_layout()\n",
    "        if SAVE: \n",
    "            plt.savefig(path+fig_name+'.pdf')\n",
    "        else:\n",
    "            ax.set(title=fig_name)"
   ]
  },
  {
   "cell_type": "code",
   "execution_count": null,
   "metadata": {},
   "outputs": [],
   "source": [
    "print(np.mean(model.sol.EVw_pd.ravel())) # -0.2964800760720916 t=T-1"
   ]
  },
  {
   "cell_type": "code",
   "execution_count": null,
   "metadata": {},
   "outputs": [],
   "source": [
    "# stop"
   ]
  },
  {
   "cell_type": "markdown",
   "metadata": {},
   "source": [
    "# Simulated paths"
   ]
  },
  {
   "cell_type": "code",
   "execution_count": null,
   "metadata": {},
   "outputs": [],
   "source": [
    "SAVE = False\n",
    "var_list = ('cons_w','cons_m','labor_w','labor_m','A','power','power_idx','love','couple')\n",
    "model_list = ('model 3, limited','model 3, NASH','model 3, full' )\n",
    "model_list = ('model 3, limited', )\n",
    "# model_list = ('model 3, full','model 3, NASH')\n",
    "\n",
    "for init_power_idx in (1,10):\n",
    "    for init_love in (0.0,0.2): \n",
    "\n",
    "            for i,name in enumerate(model_list):\n",
    "                model = models[name]\n",
    "\n",
    "                # show how starting of in a low bargaining power gradually improves\n",
    "                model.sim.init_power_idx[:] = init_power_idx\n",
    "                model.sim.init_love[:] = init_love \n",
    "                model.simulate()\n",
    "                \n",
    "            for var in var_list:\n",
    "\n",
    "                fig, ax = plt.subplots()\n",
    "                \n",
    "                for i,name in enumerate(model_list):\n",
    "                    model = models[name]\n",
    "\n",
    "                    # pick out couples (if not the share of couples is plotted)\n",
    "                    if var == 'couple':\n",
    "                        nan = 0.0\n",
    "                    else:\n",
    "                        I = model.sim.couple<1\n",
    "                        nan = np.zeros(I.shape)\n",
    "                        nan[I] = np.nan\n",
    "\n",
    "                    # pick relevant variable for couples\n",
    "                    y = getattr(model.sim,var)        \n",
    "                    y = np.nanmean(y + nan,axis=0)\n",
    "\n",
    "                    ax.plot(y,marker=markers[i],linestyle=linestyles[i],linewidth=linewidth,label=model.spec['latexname']);\n",
    "                    ax.set(xlabel='age',ylabel=f'{var}');\n",
    "\n",
    "                plt.legend()\n",
    "\n",
    "                fig_name = f'sim {var} init power{np.round(model.par.grid_power[init_power_idx],2)}_love{init_love}'\n",
    "                plt.tight_layout()\n",
    "                if SAVE: plt.savefig(path+fig_name+'.pdf')"
   ]
  }
 ],
 "metadata": {
  "kernelspec": {
   "display_name": "Python 3",
   "language": "python",
   "name": "python3"
  },
  "language_info": {
   "codemirror_mode": {
    "name": "ipython",
    "version": 3
   },
   "file_extension": ".py",
   "mimetype": "text/x-python",
   "name": "python",
   "nbconvert_exporter": "python",
   "pygments_lexer": "ipython3",
   "version": "3.8.10"
  }
 },
 "nbformat": 4,
 "nbformat_minor": 4
}
