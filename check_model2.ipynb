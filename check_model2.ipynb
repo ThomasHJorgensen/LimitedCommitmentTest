{
 "cells": [
  {
   "cell_type": "code",
   "execution_count": 1,
   "metadata": {},
   "outputs": [],
   "source": [
    "#check model\n",
    "%load_ext autoreload\n",
    "%load_ext line_profiler\n",
    "%autoreload 2\n",
    "\n",
    "import numpy as np\n",
    "import pandas as pd\n",
    "from mpl_toolkits import mplot3d\n",
    "import matplotlib\n",
    "import matplotlib.pyplot as plt\n",
    "import scipy.optimize as optimize\n",
    "import Estimate\n",
    "import figure \n",
    "from EconModel import cpptools\n",
    "import pickle\n",
    "\n",
    "from LimitedCommitmentModel import LimitedCommitmentModelClass\n",
    "\n",
    "# plot style\n",
    "linestyles = ['-','--','-.',':',':']\n",
    "markers = ['o','s','D','*','P']\n",
    "linewidth = 2\n",
    "font_size = 17\n",
    "font = {'size':font_size}\n",
    "matplotlib.rc('font', **font)\n",
    "\n",
    "\n",
    "plt.rcParams.update({'figure.max_open_warning': 0,'text.usetex': False})\n",
    "path = 'output/'\n",
    "\n",
    "SAVE = False\n",
    "\n",
    "# c++ settings\n",
    "\n",
    "do_compile = True\n",
    "threads = 20\n",
    "T = 20\n",
    "#cpptools.setup_nlopt(folder='cppfuncs/', do_print = True) #install nlopt"
   ]
  },
  {
   "cell_type": "markdown",
   "metadata": {},
   "source": [
    "#SOLVE THE MODEL"
   ]
  },
  {
   "cell_type": "code",
   "execution_count": 2,
   "metadata": {},
   "outputs": [
    {
     "name": "stdout",
     "output_type": "stream",
     "text": [
      "{'model_FC': {'latexname': 'limited', 'par': {'T': 20, 'do_HK': False, 'threads': 20, 'bargaining': 0}}}\n",
      "model_FC loading... solving...\n",
      "CPU times: total: 23h 41min 29s\n",
      "Wall time: 2h 54min 10s\n"
     ]
    },
    {
     "ename": "NameError",
     "evalue": "name 'pickle_file' is not defined",
     "output_type": "error",
     "traceback": [
      "\u001b[1;31m---------------------------------------------------------------------------\u001b[0m",
      "\u001b[1;31mNameError\u001b[0m                                 Traceback (most recent call last)",
      "Cell \u001b[1;32mIn[2], line 36\u001b[0m\n\u001b[0;32m     33\u001b[0m get_ipython()\u001b[38;5;241m.\u001b[39mrun_line_magic(\u001b[38;5;124m'\u001b[39m\u001b[38;5;124mtime\u001b[39m\u001b[38;5;124m'\u001b[39m, \u001b[38;5;124m'\u001b[39m\u001b[38;5;124mmodels.solve()\u001b[39m\u001b[38;5;124m'\u001b[39m)\n\u001b[0;32m     35\u001b[0m \u001b[38;5;28;01mif\u001b[39;00m save_pickle:\n\u001b[1;32m---> 36\u001b[0m     \u001b[38;5;28;01mwith\u001b[39;00m \u001b[38;5;28mopen\u001b[39m(\u001b[43mpickle_file\u001b[49m, \u001b[38;5;124m'\u001b[39m\u001b[38;5;124mwb\u001b[39m\u001b[38;5;124m'\u001b[39m) \u001b[38;5;28;01mas\u001b[39;00m f:\n\u001b[0;32m     37\u001b[0m         pickle\u001b[38;5;241m.\u001b[39mdump(models\u001b[38;5;241m.\u001b[39msol,f)\n\u001b[0;32m     38\u001b[0m     pickle_file \u001b[38;5;241m=\u001b[39m \u001b[38;5;124mf\u001b[39m\u001b[38;5;124m'\u001b[39m\u001b[38;5;124moutput/\u001b[39m\u001b[38;5;132;01m{\u001b[39;00mname\u001b[38;5;132;01m}\u001b[39;00m\u001b[38;5;124m_par.pickle\u001b[39m\u001b[38;5;124m'\u001b[39m\n",
      "\u001b[1;31mNameError\u001b[0m: name 'pickle_file' is not defined"
     ]
    }
   ],
   "source": [
    "save_data = False\n",
    "save_pickle = True\n",
    "specs = {}\n",
    "\n",
    "#JEG PRØVER AT KØRE MED 0.25 ved util Z\n",
    "\n",
    "\n",
    "#specs.update({f'model_NC':{'latexname':'limited', 'par':{ 'T':T, 'do_HK': False, 'threads':threads,'bargaining':2}}})\n",
    "specs.update({f'model_FC':{'latexname':'limited', 'par':{ 'T':T,  'do_HK': False, 'threads':threads,'bargaining':0}}})\n",
    "#specs.update({f'model_LC':{'latexname':'limited', 'par':{ 'T':T, 'do_HK':False , 'threads':threads,'bargaining':1}}})\n",
    "\n",
    "#specs.update({f'model_FC_doHK':{'latexname':'limited', 'par':{ 'T':T,  'do_HK': True, 'threads':threads,'bargaining':0}}})\n",
    "#specs.update({f'model_LC_doHK':{'latexname':'limited', 'par':{ 'T':T,  'do_HK': True , 'threads':threads,'bargaining':1}}}) \n",
    "#specs.update({f'model_NC_doHK':{'latexname':'limited', 'par':{ 'T':T, 'do_HK': True, 'threads':threads,'bargaining':2}}})\n",
    "\n",
    "print(specs)\n",
    "\n",
    "\n",
    "\n",
    "# solve different models\n",
    "models = {}\n",
    "for m,(name,spec) in enumerate(specs.items()):\n",
    "    print(f'{name} loading...',end='')\n",
    "    \n",
    "    # setup model\n",
    "    models = LimitedCommitmentModelClass(name=name,par=spec['par'])\n",
    "    models.spec = spec\n",
    "\n",
    "    compile_now = True if do_compile & (m==0) else False\n",
    "    models.link_to_cpp(force_compile=compile_now)\n",
    "    \n",
    "    print(' solving...')\n",
    "    %time models.solve() \n",
    "\n",
    "    if save_pickle:\n",
    "        pickle_file = f'output/{name}_sol.pickle'\n",
    "        with open(pickle_file, 'wb') as f:\n",
    "            pickle.dump(models.sol,f)\n",
    "        pickle_file = f'output/{name}_par.pickle'\n",
    "        with open(pickle_file, 'wb') as f:\n",
    "            pickle.dump(models.par,f)\n",
    "\n",
    "    #Save  data \n",
    "    if save_data: \n",
    "        T = models.par.T\n",
    "        print(' saving...')\n",
    "        models.sim.init_love[:] = 0.2\n",
    "        models.sim.init_A[:] = 2.0 \n",
    "        np.random.seed(models.par.seed)\n",
    "        data1 = Estimate.create_data(models,start_p = 1, end_p = T-1, to_xl = True, name_xl = name)\n",
    "        print(f'Couple {np.mean(models.sim.couple,0)}')\n",
    "        print(f'HKw {np.mean(models.sim.Kw,0)}')\n",
    "        print(f'HKm {np.mean(models.sim.Km,0)}')\n",
    "        print(f'Laborw {np.mean(models.sim.labor_w,0)}')\n",
    "        print(f'Laborm {np.mean(models.sim.labor_m,0)}')\n",
    "        print(f'Asset {np.nanmean(models.sim.A,0)}')\n",
    "\n",
    "        var_list = ('labor_w', 'labor_m', 'cons_w', 'cons_m', 'Vw', 'Vm')\n",
    "        t_list = (1,9)\n",
    "        i_A = 250\n",
    "        i_HK = 1\n",
    "        i_HKw = i_HK\n",
    "        i_HKm = i_HK\n",
    "        i_Z = 0\n",
    "        i_Zw = i_Z\n",
    "        i_Zm = i_Z\n",
    "        i_P = 5\n",
    "        i_L = 5\n",
    "        figure.figure_single(models, var_list, t_list, i_A, i_Z, i_HK, model_name = name)\n",
    "        figure.figure_couple(models, var_list, t_list, i_A, i_Zw, i_Zm, i_HKw, i_HKm, i_L, i_P, sol_type = 'couple', model_name = name)\n",
    "        figure.figure_couple(models, var_list, t_list, i_A, i_Zw, i_Zm, i_HKw, i_HKm, i_L, i_P, sol_type = 'remain_couple', model_name = name)\n"
   ]
  },
  {
   "cell_type": "code",
   "execution_count": null,
   "metadata": {},
   "outputs": [],
   "source": [
    "\n",
    "stop"
   ]
  },
  {
   "cell_type": "code",
   "execution_count": 3,
   "metadata": {},
   "outputs": [
    {
     "ename": "NameError",
     "evalue": "name 'model_FC' is not defined",
     "output_type": "error",
     "traceback": [
      "\u001b[1;31m---------------------------------------------------------------------------\u001b[0m",
      "\u001b[1;31mNameError\u001b[0m                                 Traceback (most recent call last)",
      "Cell \u001b[1;32mIn[3], line 1\u001b[0m\n\u001b[1;32m----> 1\u001b[0m name \u001b[38;5;241m=\u001b[39m \u001b[43mmodel_FC\u001b[49m\n\u001b[0;32m      2\u001b[0m pickle_file \u001b[38;5;241m=\u001b[39m \u001b[38;5;124mf\u001b[39m\u001b[38;5;124m'\u001b[39m\u001b[38;5;124moutput/\u001b[39m\u001b[38;5;132;01m{\u001b[39;00mname\u001b[38;5;132;01m}\u001b[39;00m\u001b[38;5;124m_sol.pickle\u001b[39m\u001b[38;5;124m'\u001b[39m\n\u001b[0;32m      3\u001b[0m \u001b[38;5;28;01mwith\u001b[39;00m \u001b[38;5;28mopen\u001b[39m(pickle_file, \u001b[38;5;124m'\u001b[39m\u001b[38;5;124mwb\u001b[39m\u001b[38;5;124m'\u001b[39m) \u001b[38;5;28;01mas\u001b[39;00m f:\n",
      "\u001b[1;31mNameError\u001b[0m: name 'model_FC' is not defined"
     ]
    }
   ],
   "source": [
    "name = \"model_FC\"\n",
    "pickle_file = f'output/{name}_sol.pickle'\n",
    "with open(pickle_file, 'wb') as f:\n",
    "    pickle.dump(models.sol,f)\n",
    "pickle_file = f'output/{name}_par.pickle'\n",
    "with open(pickle_file, 'wb') as f:\n",
    "    pickle.dump(models.par,f)\n"
   ]
  },
  {
   "cell_type": "markdown",
   "metadata": {},
   "source": []
  }
 ],
 "metadata": {
  "kernelspec": {
   "display_name": "base",
   "language": "python",
   "name": "python3"
  },
  "language_info": {
   "codemirror_mode": {
    "name": "ipython",
    "version": 3
   },
   "file_extension": ".py",
   "mimetype": "text/x-python",
   "name": "python",
   "nbconvert_exporter": "python",
   "pygments_lexer": "ipython3",
   "version": "3.8.18"
  }
 },
 "nbformat": 4,
 "nbformat_minor": 2
}
