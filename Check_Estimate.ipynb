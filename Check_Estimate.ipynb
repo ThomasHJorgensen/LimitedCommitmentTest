{
 "cells": [
  {
   "cell_type": "code",
   "execution_count": 46,
   "metadata": {},
   "outputs": [
    {
     "name": "stdout",
     "output_type": "stream",
     "text": [
      "The autoreload extension is already loaded. To reload it, use:\n",
      "  %reload_ext autoreload\n",
      "The line_profiler extension is already loaded. To reload it, use:\n",
      "  %reload_ext line_profiler\n"
     ]
    }
   ],
   "source": [
    "%load_ext autoreload\n",
    "%load_ext line_profiler\n",
    "%autoreload 2\n",
    "\n",
    "import numpy as np\n",
    "import pandas as pd\n",
    "from mpl_toolkits import mplot3d\n",
    "import matplotlib\n",
    "import matplotlib.pyplot as plt\n",
    "import scipy.optimize as optimize\n",
    "import statsmodels.api as sm\n",
    "\n",
    "from LimitedCommitmentModel import LimitedCommitmentModelClass\n",
    "\n",
    "# plot style\n",
    "linestyles = ['-','--','-.',':',':']\n",
    "markers = ['o','s','D','*','P']\n",
    "linewidth = 2\n",
    "font_size = 17\n",
    "font = {'size':font_size}\n",
    "matplotlib.rc('font', **font)\n",
    "\n",
    "plt.rcParams.update({'figure.max_open_warning': 0,'text.usetex': False})\n",
    "path = 'output/'\n",
    "\n",
    "SAVE = False\n",
    "\n",
    "# c++ settings\n",
    "do_compile = False\n",
    "threads = 16\n",
    "\n",
    "\n",
    "#dowload nlopt\n",
    "import consav\n",
    "import Estimate\n",
    "consav.cpptools.setup_nlopt()"
   ]
  },
  {
   "cell_type": "markdown",
   "metadata": {},
   "source": [
    "# Solve the model"
   ]
  },
  {
   "cell_type": "code",
   "execution_count": 47,
   "metadata": {},
   "outputs": [
    {
     "name": "stdout",
     "output_type": "stream",
     "text": [
      "model 3 loading... solving...\n",
      "CPU times: total: 1h 19min 6s\n",
      "Wall time: 13min 14s\n"
     ]
    }
   ],
   "source": [
    "# compile c++ files\n",
    "T = 5\n",
    "specs = {\n",
    "    'model 3':{'latexname':'$\\sigma_{\\psi}=0.1$', 'par':{'sigma_love':0.1, 'sigma_K': 1.0, 'T': T , 'threads':threads}},\n",
    "}\n",
    "\n",
    "\n",
    "# solve different models\n",
    "models = {}\n",
    "for m,(name,spec) in enumerate(specs.items()):\n",
    "    print(f'{name} loading...',end='')\n",
    "    \n",
    "    # setup model\n",
    "    models[name] = LimitedCommitmentModelClass(name=name,par=spec['par'])\n",
    "    if do_compile & (m==0):\n",
    "        compile_now = True\n",
    "    else:\n",
    "        compile_now = False\n",
    "    models[name].link_to_cpp(force_compile=compile_now)\n",
    "    models[name].spec = spec\n",
    "    \n",
    "    print(' solving...')\n",
    "    %time models[name].solve()\n",
    "\n",
    "    "
   ]
  },
  {
   "cell_type": "code",
   "execution_count": 49,
   "metadata": {},
   "outputs": [
    {
     "data": {
      "text/plain": [
       "array([[5.04691428e+00, 9.05498259e+00, 1.29196111e+01, ...,\n",
       "        4.79858021e+00, 2.45658403e+00, 1.80418364e-02],\n",
       "       [5.04691428e+00, 9.38906216e+00, 1.72310454e+01, ...,\n",
       "                   nan,            nan,            nan],\n",
       "       [5.04691428e+00, 8.35346031e+00, 8.77431901e+00, ...,\n",
       "        3.91894811e+00, 2.06172051e+00, 1.05099933e-03],\n",
       "       ...,\n",
       "       [5.04691428e+00, 9.64285508e+00, 1.40165850e+01, ...,\n",
       "        6.08811541e+00, 2.78914378e+00, 0.00000000e+00],\n",
       "       [5.04691428e+00, 9.02260974e+00, 1.20316238e+01, ...,\n",
       "        5.51182766e+00, 3.13999025e+00, 7.77744621e-02],\n",
       "       [5.04691428e+00, 4.14196455e+00, 9.69448464e+00, ...,\n",
       "                   nan,            nan,            nan]])"
      ]
     },
     "execution_count": 49,
     "metadata": {},
     "output_type": "execute_result"
    }
   ],
   "source": [
    "model = models['model 3']\n",
    "model.sim.init_A[:] = 1.0 \n",
    "model.simulate()\n",
    "model.sim.A\n",
    "#model.sol.labor_w_couple"
   ]
  },
  {
   "cell_type": "markdown",
   "metadata": {},
   "source": [
    "# Estimate the model"
   ]
  },
  {
   "cell_type": "code",
   "execution_count": 50,
   "metadata": {},
   "outputs": [
    {
     "name": "stderr",
     "output_type": "stream",
     "text": [
      "c:\\Users\\czk481\\Documents\\PhD\\projects\\household_bargening\\LimitedTest\\LimitedCommitmentTest\\Estimate.py:29: RuntimeWarning: overflow encountered in exp\n",
      "  wage_w      =  np.exp(model.par.wage_const_w +model.par.wage_K_w* model.sim.Kw)\n",
      "c:\\Users\\czk481\\Documents\\PhD\\projects\\household_bargening\\LimitedTest\\LimitedCommitmentTest\\Estimate.py:30: RuntimeWarning: overflow encountered in multiply\n",
      "  y_w         =  wage_w*model.sim.labor_w\n",
      "c:\\Users\\czk481\\Documents\\PhD\\projects\\household_bargening\\LimitedTest\\LimitedCommitmentTest\\Estimate.py:31: RuntimeWarning: overflow encountered in exp\n",
      "  wage_m      =  np.exp(model.par.wage_const_m+model.par.wage_K_m* model.sim.Km)\n",
      "c:\\Users\\czk481\\Documents\\PhD\\projects\\household_bargening\\LimitedTest\\LimitedCommitmentTest\\Estimate.py:32: RuntimeWarning: overflow encountered in multiply\n",
      "  y_m         =  wage_m*model.sim.labor_m\n",
      "c:\\Users\\czk481\\Documents\\PhD\\projects\\household_bargening\\LimitedTest\\LimitedCommitmentTest\\Estimate.py:32: RuntimeWarning: invalid value encountered in multiply\n",
      "  y_m         =  wage_m*model.sim.labor_m\n",
      "c:\\Users\\czk481\\Anaconda3\\lib\\site-packages\\pandas\\core\\arraylike.py:364: RuntimeWarning: invalid value encountered in log\n",
      "  result = getattr(ufunc, method)(*inputs, **kwargs)\n"
     ]
    },
    {
     "name": "stdout",
     "output_type": "stream",
     "text": [
      "Residuals from hours equation\n",
      "                                 OLS Regression Results                                \n",
      "=======================================================================================\n",
      "Dep. Variable:        delta_log_Labor   R-squared (uncentered):                   0.025\n",
      "Model:                            OLS   Adj. R-squared (uncentered):              0.025\n",
      "Method:                 Least Squares   F-statistic:                              2272.\n",
      "Date:                Thu, 18 Jan 2024   Prob (F-statistic):                        0.00\n",
      "Time:                        18:10:39   Log-Likelihood:                     -4.2206e+05\n",
      "No. Observations:              270584   AIC:                                  8.441e+05\n",
      "Df Residuals:                  270581   BIC:                                  8.442e+05\n",
      "Df Model:                           3                                                  \n",
      "Covariance Type:            nonrobust                                                  \n",
      "====================================================================================\n",
      "                       coef    std err          t      P>|t|      [0.025      0.975]\n",
      "------------------------------------------------------------------------------------\n",
      "Labor_inv_1          0.0686      0.001     62.580      0.000       0.066       0.071\n",
      "Laborinv_1_t        -0.0228      0.000    -62.504      0.000      -0.024      -0.022\n",
      "Laborinv_1_woman     0.0006   1.73e-05     35.765      0.000       0.001       0.001\n",
      "==============================================================================\n",
      "Omnibus:                   194228.478   Durbin-Watson:                   1.892\n",
      "Prob(Omnibus):                  0.000   Jarque-Bera (JB):          4098861.151\n",
      "Skew:                          -3.256   Prob(JB):                         0.00\n",
      "Kurtosis:                      20.921   Cond. No.                         432.\n",
      "==============================================================================\n",
      "\n",
      "Notes:\n",
      "[1] R² is computed without centering (uncentered) since the model does not contain a constant.\n",
      "[2] Standard Errors assume that the covariance matrix of the errors is correctly specified.\n",
      "Residuals from own wage equation\n",
      "                            OLS Regression Results                            \n",
      "==============================================================================\n",
      "Dep. Variable:         delta_log_wage   R-squared:                       0.003\n",
      "Model:                            OLS   Adj. R-squared:                  0.003\n",
      "Method:                 Least Squares   F-statistic:                     376.3\n",
      "Date:                Thu, 18 Jan 2024   Prob (F-statistic):          6.22e-164\n",
      "Time:                        18:10:40   Log-Likelihood:                -40865.\n",
      "No. Observations:              270584   AIC:                         8.174e+04\n",
      "Df Residuals:                  270581   BIC:                         8.177e+04\n",
      "Df Model:                           2                                         \n",
      "Covariance Type:            nonrobust                                         \n",
      "==============================================================================\n",
      "                 coef    std err          t      P>|t|      [0.025      0.975]\n",
      "------------------------------------------------------------------------------\n",
      "const          0.1131      0.002     73.896      0.000       0.110       0.116\n",
      "t             -0.0130      0.001    -19.666      0.000      -0.014      -0.012\n",
      "woman         -0.0207      0.001    -19.158      0.000      -0.023      -0.019\n",
      "==============================================================================\n",
      "Omnibus:                   642321.754   Durbin-Watson:                   2.085\n",
      "Prob(Omnibus):                  0.000   Jarque-Bera (JB):      49523878004.122\n",
      "Skew:                          23.270   Prob(JB):                         0.00\n",
      "Kurtosis:                    2098.341   Cond. No.                         7.52\n",
      "==============================================================================\n",
      "\n",
      "Notes:\n",
      "[1] Standard Errors assume that the covariance matrix of the errors is correctly specified.\n",
      "Residuals from partners wage equation\n",
      "                            OLS Regression Results                            \n",
      "==============================================================================\n",
      "Dep. Variable:       delta_log_wage_j   R-squared:                       0.003\n",
      "Model:                            OLS   Adj. R-squared:                  0.003\n",
      "Method:                 Least Squares   F-statistic:                     421.0\n",
      "Date:                Thu, 18 Jan 2024   Prob (F-statistic):          2.75e-183\n",
      "Time:                        18:10:40   Log-Likelihood:                -22910.\n",
      "No. Observations:              270584   AIC:                         4.583e+04\n",
      "Df Residuals:                  270581   BIC:                         4.586e+04\n",
      "Df Model:                           2                                         \n",
      "Covariance Type:            nonrobust                                         \n",
      "==============================================================================\n",
      "                 coef    std err          t      P>|t|      [0.025      0.975]\n",
      "------------------------------------------------------------------------------\n",
      "const          0.0928      0.001     64.773      0.000       0.090       0.096\n",
      "t             -0.0132      0.001    -21.349      0.000      -0.014      -0.012\n",
      "woman          0.0199      0.001     19.620      0.000       0.018       0.022\n",
      "==============================================================================\n",
      "Omnibus:                   515485.783   Durbin-Watson:                   2.141\n",
      "Prob(Omnibus):                  0.000   Jarque-Bera (JB):       9059586291.547\n",
      "Skew:                          13.866   Prob(JB):                         0.00\n",
      "Kurtosis:                     898.985   Cond. No.                         7.52\n",
      "==============================================================================\n",
      "\n",
      "Notes:\n",
      "[1] Standard Errors assume that the covariance matrix of the errors is correctly specified.\n",
      "                                 OLS Regression Results                                \n",
      "=======================================================================================\n",
      "Dep. Variable:                   uhat   R-squared (uncentered):                   0.008\n",
      "Model:                            OLS   Adj. R-squared (uncentered):              0.007\n",
      "Method:                 Least Squares   F-statistic:                              123.9\n",
      "Date:                Thu, 18 Jan 2024   Prob (F-statistic):                   1.60e-284\n",
      "Time:                        18:10:41   Log-Likelihood:                     -3.0864e+05\n",
      "No. Observations:              179261   AIC:                                  6.173e+05\n",
      "Df Residuals:                  179250   BIC:                                  6.174e+05\n",
      "Df Model:                          11                                                  \n",
      "Covariance Type:            nonrobust                                                  \n",
      "==============================================================================\n",
      "                 coef    std err          t      P>|t|      [0.025      0.975]\n",
      "------------------------------------------------------------------------------\n",
      "X3            -0.0003   7.53e-05     -4.443      0.000      -0.000      -0.000\n",
      "X4            -0.0003   5.18e-05     -6.515      0.000      -0.000      -0.000\n",
      "X5            -0.0008   9.31e-05     -8.142      0.000      -0.001      -0.001\n",
      "X6          3.906e-05      0.000      0.366      0.715      -0.000       0.000\n",
      "X9             0.0003    2.8e-05      9.690      0.000       0.000       0.000\n",
      "X10          6.91e-05   5.65e-06     12.236      0.000     5.8e-05    8.02e-05\n",
      "X11            0.0017      0.000     16.001      0.000       0.002       0.002\n",
      "X12         5.116e-05   3.72e-06     13.767      0.000    4.39e-05    5.84e-05\n",
      "X13           -0.0010      0.000     -8.802      0.000      -0.001      -0.001\n",
      "X14            0.0002      0.000      1.160      0.246      -0.000       0.000\n",
      "X15         3.806e-05   1.16e-05      3.278      0.001    1.53e-05    6.08e-05\n",
      "==============================================================================\n",
      "Omnibus:                   107110.822   Durbin-Watson:                   1.808\n",
      "Prob(Omnibus):                  0.000   Jarque-Bera (JB):          1280909.784\n",
      "Skew:                          -2.705   Prob(JB):                         0.00\n",
      "Kurtosis:                      14.926   Cond. No.                         216.\n",
      "==============================================================================\n",
      "\n",
      "Notes:\n",
      "[1] R² is computed without centering (uncentered) since the model does not contain a constant.\n",
      "[2] Standard Errors assume that the covariance matrix of the errors is correctly specified.\n",
      " Test for full commitment\n",
      "<Wald test (chi2): statistic=[[299.23342249]], p-value=1.585481091825087e-63, df_denom=4>\n",
      " Test for no commitment\n",
      "<Wald test (chi2): statistic=[[160.20998522]], p-value=1.6512561049670636e-34, df_denom=3>\n"
     ]
    },
    {
     "name": "stderr",
     "output_type": "stream",
     "text": [
      "c:\\Users\\czk481\\Anaconda3\\lib\\site-packages\\statsmodels\\base\\model.py:1906: FutureWarning: The behavior of wald_test will change after 0.14 to returning scalar test statistic values. To get the future behavior now, set scalar to True. To silence this message while retaining the legacy behavior, set scalar to False.\n",
      "  warnings.warn(\n"
     ]
    }
   ],
   "source": [
    "#Estimate the model one time\n",
    "model = models['model 3']\n",
    "\n",
    "model.sim.init_A[:] = 1.0 # temp just to check that it works, if they have too little initial saving they will just consume everything, and saving is therefore close to zero, and the model cannot be estimated\n",
    "\n",
    "np.random.seed(model.par.seed)\n",
    "data = Estimate.create_data(model,start_p = 1, end_p = 4, to_xl = True)\n",
    "data_reg = Estimate.aux_est(data,print_reg=True)\n",
    "data_reg, Wald_FC, Wald_NC = Estimate.main_est(data_reg,print_reg=True) "
   ]
  },
  {
   "cell_type": "code",
   "execution_count": null,
   "metadata": {},
   "outputs": [],
   "source": []
  }
 ],
 "metadata": {
  "kernelspec": {
   "display_name": "Python 3",
   "language": "python",
   "name": "python3"
  },
  "language_info": {
   "codemirror_mode": {
    "name": "ipython",
    "version": 3
   },
   "file_extension": ".py",
   "mimetype": "text/x-python",
   "name": "python",
   "nbconvert_exporter": "python",
   "pygments_lexer": "ipython3",
   "version": "3.8.18"
  }
 },
 "nbformat": 4,
 "nbformat_minor": 4
}
