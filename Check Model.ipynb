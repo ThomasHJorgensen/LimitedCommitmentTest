{
 "cells": [
  {
   "cell_type": "code",
   "execution_count": 1,
   "metadata": {},
   "outputs": [],
   "source": [
    "%load_ext autoreload\n",
    "%load_ext line_profiler\n",
    "%autoreload 2\n",
    "\n",
    "import numpy as np\n",
    "from mpl_toolkits import mplot3d\n",
    "import matplotlib\n",
    "import matplotlib.pyplot as plt\n",
    "import scipy.optimize as optimize\n",
    "\n",
    "from LimitedCommitmentModel import LimitedCommitmentModelClass\n",
    "\n",
    "# plot style\n",
    "linestyles = ['-','--','-.',':',':']\n",
    "markers = ['o','s','D','*','P']\n",
    "linewidth = 2\n",
    "font_size = 17\n",
    "font = {'size':font_size}\n",
    "matplotlib.rc('font', **font)\n",
    "\n",
    "plt.rcParams.update({'figure.max_open_warning': 0,'text.usetex': False})\n",
    "path = 'output/'\n",
    "\n",
    "SAVE = False\n",
    "\n",
    "# c++ settings\n",
    "do_compile = True\n",
    "threads = 16"
   ]
  },
  {
   "cell_type": "code",
   "execution_count": 2,
   "metadata": {},
   "outputs": [],
   "source": [
    "# compile c++ files\n",
    "# model = LimitedCommitmentModelClass(par={'threads':threads })\n",
    "# model.link_to_cpp(force_compile=do_compile)"
   ]
  },
  {
   "cell_type": "markdown",
   "metadata": {},
   "source": [
    "# Solve and simulate from alternative models"
   ]
  },
  {
   "cell_type": "code",
   "execution_count": 3,
   "metadata": {},
   "outputs": [],
   "source": [
    "# settings for models to solve\n",
    "T = 10\n",
    "specs = {\n",
    "    # 'model 1':{'latexname':'$\\sigma_{\\psi}=0$', 'par':{'sigma_love':0.0,'T':T,'threads':threads}},\n",
    "    # 'model 2':{'latexname':'$\\sigma_{\\psi}=0.04$', 'par':{'sigma_love':0.04,'T':T,'threads':threads}},\n",
    "    'model 3':{'latexname':'$\\sigma_{\\psi}=0.1$', 'par':{'sigma_love':0.1,'T':T,'threads':threads}},\n",
    "    # 'model 4':{'latexname':'$\\kappa_w=0.3$', 'par':{'div_A_share':0.3,'sigma_love':0.0,'T':T,'threads':threads}},\n",
    "}\n"
   ]
  },
  {
   "cell_type": "code",
   "execution_count": 4,
   "metadata": {},
   "outputs": [
    {
     "name": "stdout",
     "output_type": "stream",
     "text": [
      "model 3 loading... solving...\n"
     ]
    }
   ],
   "source": [
    "# solve different models\n",
    "models = {}\n",
    "for m,(name,spec) in enumerate(specs.items()):\n",
    "    print(f'{name} loading...',end='')\n",
    "    \n",
    "    # setup model\n",
    "    models[name] = LimitedCommitmentModelClass(name=name,par=spec['par'])\n",
    "    if do_compile & (m==0):\n",
    "        compile_now = True\n",
    "    else:\n",
    "        compile_now = False\n",
    "    models[name].link_to_cpp(force_compile=compile_now)\n",
    "    models[name].spec = spec\n",
    "    \n",
    "    print(' solving...')\n",
    "    %time models[name].solve() #Wall time: 42.3 s for T=2"
   ]
  },
  {
   "cell_type": "markdown",
   "metadata": {},
   "source": [
    "# Policy functions"
   ]
  },
  {
   "cell_type": "markdown",
   "metadata": {},
   "source": [
    "## Singles"
   ]
  },
  {
   "cell_type": "code",
   "execution_count": null,
   "metadata": {},
   "outputs": [],
   "source": [
    "model_list = ('model 3',)\n",
    "sol_type ='single'\n",
    "par = models[model_list[0]].par\n",
    "\n",
    "cmaps = ('viridis','gray')\n",
    "for t in (0,):\n",
    "    for var in ('V','cons','labor'):\n",
    "        for sex in (1,2):\n",
    "            sex_str = 'w' if sex==1 else 'm'\n",
    "            if var not in ('V',):\n",
    "                sex_str = f'_{sex_str}'\n",
    "            var_now = var\n",
    "            var_now += f'{sex_str}_{sol_type}'\n",
    "            \n",
    "            fig = plt.figure()\n",
    "            ax = plt.axes(projection='3d')\n",
    "\n",
    "            grid_A = par.grid_Aw if sex==1 else par.grid_Am\n",
    "            X, Y = np.meshgrid(grid_A, par.grid_K,indexing='ij')\n",
    "            \n",
    "            for i,name in enumerate(model_list):\n",
    "                model = models[name]\n",
    "                \n",
    "                Z = getattr(model.sol,var_now)[t]\n",
    "                \n",
    "                alpha = 0.5 if name=='model 1' else 0.7\n",
    "                ax.plot_surface(X, Y, Z,rstride=1,cstride=1,cmap=cmaps[i], edgecolor='none',alpha=alpha);\n",
    "                \n",
    "                ax.set(xlabel='$A_{j,t-1}$',ylabel='$K_{j,t}$');\n",
    "                \n",
    "            fig_name = f'sol {var_now} t{t}{sex_str}'\n",
    "            plt.tight_layout()\n",
    "            if SAVE: \n",
    "                plt.savefig(path+fig_name+'.pdf')\n",
    "            else:\n",
    "                ax.set(title=fig_name)"
   ]
  },
  {
   "cell_type": "markdown",
   "metadata": {},
   "source": [
    "## Couples\n",
    "Plot policy functions as a function of woman's power and household wealth"
   ]
  },
  {
   "cell_type": "code",
   "execution_count": null,
   "metadata": {},
   "outputs": [],
   "source": [
    "\n",
    "model_list = ('model 3',)\n",
    "sol_type ='remain_couple'\n",
    "par = models[model_list[0]].par\n",
    "\n",
    "\n",
    "t = 0\n",
    "iK = 5\n",
    "iKw = iK\n",
    "iKm = iK\n",
    "\n",
    "print(np.mean(model.sol.cons_w_remain_couple[t].ravel())) # 10.351192584353102 t=T-1, 8.307694301145856 at t=T-2\n",
    "\n",
    "X, Y = np.meshgrid(par.grid_power, par.grid_A,indexing='ij')\n",
    "\n",
    "cmaps = ('viridis','gray')\n",
    "for iL in (par.num_love//2,): \n",
    "    for var in ('Vw','Vm','cons_w','cons_m','labor_w','labor_m','power'):\n",
    "        if var != 'power': \n",
    "            var += f'_{sol_type}'\n",
    "        \n",
    "        fig = plt.figure()\n",
    "        ax = plt.axes(projection='3d')\n",
    "        \n",
    "        for i,name in enumerate(model_list):\n",
    "            model = models[name]\n",
    "            \n",
    "            Z = getattr(model.sol,var)[t,:,iL,:,iKw,iKm]\n",
    "            \n",
    "            \n",
    "            alpha = 0.5 if name=='model 1' else 0.7\n",
    "            ax.plot_surface(X, Y, Z,rstride=1,cstride=1,cmap=cmaps[i], edgecolor='none',alpha=alpha);\n",
    "            \n",
    "            if var == 'power': \n",
    "                ax.set(zlim=[0.0,1.0])\n",
    "            ax.set(xlabel='$\\mu_{t-1}$',ylabel='$A_{t-1}$');\n",
    "            \n",
    "        fig_name = f'sol {var} t{t}_love{np.round(par.grid_love[iL]):1.2f}'\n",
    "        plt.tight_layout()\n",
    "        if SAVE: \n",
    "            plt.savefig(path+fig_name+'.pdf')\n",
    "        else:\n",
    "            ax.set(title=fig_name)"
   ]
  },
  {
   "cell_type": "code",
   "execution_count": null,
   "metadata": {},
   "outputs": [],
   "source": [
    "print(np.mean(model.sol.EVw_pd.ravel())) # -0.2964800760720916 t=T-1"
   ]
  },
  {
   "cell_type": "code",
   "execution_count": null,
   "metadata": {},
   "outputs": [],
   "source": [
    "# stop"
   ]
  },
  {
   "cell_type": "markdown",
   "metadata": {},
   "source": [
    "# Simulated paths"
   ]
  },
  {
   "cell_type": "code",
   "execution_count": null,
   "metadata": {},
   "outputs": [],
   "source": [
    "SAVE = False\n",
    "var_list = ('cons_w','cons_m','labor_w','labor_m','A','power','power_idx','love','couple')\n",
    "model_list = ('model 3',)\n",
    "\n",
    "for init_power_idx in (1,10):\n",
    "    for init_love in (0.0,0.2): \n",
    "\n",
    "            for i,name in enumerate(model_list):\n",
    "                model = models[name]\n",
    "\n",
    "                # show how starting of in a low bargaining power gradually improves\n",
    "                model.sim.init_power_idx[:] = init_power_idx\n",
    "                model.sim.init_love[:] = init_love \n",
    "                model.simulate()\n",
    "                \n",
    "            for var in var_list:\n",
    "\n",
    "                fig, ax = plt.subplots()\n",
    "                \n",
    "                for i,name in enumerate(model_list):\n",
    "                    model = models[name]\n",
    "\n",
    "                    # pick out couples (if not the share of couples is plotted)\n",
    "                    if var == 'couple':\n",
    "                        nan = 0.0\n",
    "                    else:\n",
    "                        I = model.sim.couple<1\n",
    "                        nan = np.zeros(I.shape)\n",
    "                        nan[I] = np.nan\n",
    "\n",
    "                    # pick relevant variable for couples\n",
    "                    y = getattr(model.sim,var)        \n",
    "                    y = np.nanmean(y + nan,axis=0)\n",
    "\n",
    "                    ax.plot(y,marker=markers[i],linestyle=linestyles[i],linewidth=linewidth,label=model.spec['latexname']);\n",
    "                    ax.set(xlabel='age',ylabel=f'{var}');\n",
    "\n",
    "                plt.legend()\n",
    "\n",
    "                fig_name = f'sim {var} init power{np.round(model.par.grid_power[init_power_idx],2)}_love{init_love}'\n",
    "                plt.tight_layout()\n",
    "                if SAVE: plt.savefig(path+fig_name+'.pdf')"
   ]
  }
 ],
 "metadata": {
  "kernelspec": {
   "display_name": "Python 3",
   "language": "python",
   "name": "python3"
  },
  "language_info": {
   "codemirror_mode": {
    "name": "ipython",
    "version": 3
   },
   "file_extension": ".py",
   "mimetype": "text/x-python",
   "name": "python",
   "nbconvert_exporter": "python",
   "pygments_lexer": "ipython3",
   "version": "3.8.10"
  }
 },
 "nbformat": 4,
 "nbformat_minor": 4
}
