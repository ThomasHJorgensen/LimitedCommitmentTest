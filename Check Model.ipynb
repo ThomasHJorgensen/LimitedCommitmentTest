{
 "cells": [
  {
   "cell_type": "code",
   "execution_count": 1,
   "metadata": {},
   "outputs": [],
   "source": [
    "%load_ext autoreload\n",
    "%load_ext line_profiler\n",
    "%autoreload 2\n",
    "\n",
    "import numpy as np\n",
    "from mpl_toolkits import mplot3d\n",
    "import matplotlib\n",
    "import matplotlib.pyplot as plt\n",
    "import scipy.optimize as optimize\n",
    "\n",
    "import LimitedCommitmentModel as lcm\n",
    "\n",
    "# plot style\n",
    "linestyles = ['-','--','-.',':',':']\n",
    "markers = ['o','s','D','*','P']\n",
    "linewidth = 2\n",
    "font_size = 17\n",
    "font = {'size':font_size}\n",
    "matplotlib.rc('font', **font)\n",
    "\n",
    "plt.rcParams.update({'figure.max_open_warning': 0,'text.usetex': False})\n",
    "path = 'output/'\n",
    "\n",
    "# c++ settings\n",
    "do_compile = True\n",
    "threads = 1 # note"
   ]
  },
  {
   "cell_type": "code",
   "execution_count": 2,
   "metadata": {},
   "outputs": [],
   "source": [
    "# compile c++ files\n",
    "model = lcm.LimitedCommitmentModelClass(par={'threads':threads })\n",
    "model.link_to_cpp(force_compile=do_compile)"
   ]
  },
  {
   "cell_type": "code",
   "execution_count": 3,
   "metadata": {},
   "outputs": [
    {
     "name": "stdout",
     "output_type": "stream",
     "text": [
      "Wall time: 39.5 s\n"
     ]
    }
   ],
   "source": [
    "%time model.solve()\n",
    "# have not yet fully solved the last period couples yet. potentially just slow on laptop. looks like it works. but super slow\n",
    "par = model.par\n",
    "sol = model.sol\n",
    "sim = model.sim\n",
    "# Wall time: 5.71 s"
   ]
  },
  {
   "cell_type": "code",
   "execution_count": 4,
   "metadata": {},
   "outputs": [
    {
     "data": {
      "image/png": "[encoded data removed]",
      "text/plain": [
       "<Figure size 432x288 with 1 Axes>"
      ]
     },
     "metadata": {
      "needs_background": "light"
     },
     "output_type": "display_data"
    },
    {
     "data": {
      "image/png": "[encoded data removed]",
      "text/plain": [
       "<Figure size 432x288 with 1 Axes>"
      ]
     },
     "metadata": {
      "needs_background": "light"
     },
     "output_type": "display_data"
    }
   ],
   "source": [
    "t = model.par.T-1-1\n",
    "iK = model.par.num_K//2\n",
    "gender = 2\n",
    "\n",
    "cons = model.sol.cons_w_single[t,:,iK] if gender==2 else model.sol.cons_m_single[t,:,iK]\n",
    "labor = model.sol.labor_w_single[t,:,iK] if gender==2 else model.sol.labor_m_single[t,:,iK]\n",
    "\n",
    "\n",
    "K = par.grid_K[iK]\n",
    "grid_A = par.grid_Aw if gender==2 else par.grid_Am\n",
    "resources = np.zeros(len(grid_A))\n",
    "for iA,A in enumerate(grid_A):\n",
    "    resources[iA] = model.cpp.resources_single(labor[iA],A,K,gender,par)\n",
    "\n",
    "\n",
    "fig, ax = plt.subplots()\n",
    "# ax.scatter(resources,cons);\n",
    "ax.scatter(grid_A,cons);\n",
    "\n",
    "\n",
    "fig, ax = plt.subplots()\n",
    "ax.scatter(grid_A,labor);"
   ]
  },
  {
   "cell_type": "code",
   "execution_count": 5,
   "metadata": {},
   "outputs": [
    {
     "data": {
      "text/plain": [
       "array([1.        , 1.        , 1.        , 1.        , 1.        ,\n",
       "       0.47639137, 0.04396015, 0.01947423, 0.01247804, 0.00870365,\n",
       "       0.00648386])"
      ]
     },
     "execution_count": 5,
     "metadata": {},
     "output_type": "execute_result"
    }
   ],
   "source": [
    "# check couple solution\n",
    "t = model.par.T-1\n",
    "iL = 0\n",
    "iKw = 0\n",
    "iKm = 0\n",
    "iA = 0\n",
    "\n",
    "model.sol.labor_w_remain_couple[t,:,iL,iA,iKw,iKm]\n",
    "# array([1.        , 1.        , 1.        , 1.        , 1.        ,\n",
    "#        1.        , 1.        , 1.        , 1.        , 0.90024896,\n",
    "#        0.46319257, 0.08716399, 0.03103561, 0.02220168, 0.01694049,\n",
    "#        0.0135182 , 0.01114793, 0.00942705, 0.00813083, 0.00712527,\n",
    "#        0.00632616])"
   ]
  },
  {
   "cell_type": "code",
   "execution_count": 6,
   "metadata": {},
   "outputs": [
    {
     "ename": "NameError",
     "evalue": "name 'stop' is not defined",
     "output_type": "error",
     "traceback": [
      "\u001b[1;31m---------------------------------------------------------------------------\u001b[0m",
      "\u001b[1;31mNameError\u001b[0m                                 Traceback (most recent call last)",
      "\u001b[1;32m<ipython-input-6-4f76a9dad686>\u001b[0m in \u001b[0;36m<module>\u001b[1;34m\u001b[0m\n\u001b[1;32m----> 1\u001b[1;33m \u001b[0mstop\u001b[0m\u001b[1;33m\u001b[0m\u001b[1;33m\u001b[0m\u001b[0m\n\u001b[0m",
      "\u001b[1;31mNameError\u001b[0m: name 'stop' is not defined"
     ]
    }
   ],
   "source": [
    "stop"
   ]
  },
  {
   "cell_type": "markdown",
   "metadata": {},
   "source": [
    "# Solve and simulate from alternative models"
   ]
  },
  {
   "cell_type": "code",
   "execution_count": null,
   "metadata": {},
   "outputs": [],
   "source": [
    "# settings for models to solve\n",
    "T = 10\n",
    "specs = {\n",
    "    'model 1':{'latexname':'$\\sigma_{\\psi}=0$', 'par':{'sigma_love':0.0,'T':T,'do_cpp':do_cpp,'threads':threads}},\n",
    "    'model 2':{'latexname':'$\\sigma_{\\psi}=0.04$', 'par':{'sigma_love':0.04,'T':T,'do_cpp':do_cpp,'threads':threads}},\n",
    "    'model 3':{'latexname':'$\\sigma_{\\psi}=0.1$', 'par':{'sigma_love':0.1,'T':T,'do_cpp':do_cpp,'threads':threads}},\n",
    "    'model 4':{'latexname':'$\\kappa_w=0.3$', 'par':{'div_A_share':0.3,'sigma_love':0.0,'T':T,'do_cpp':do_cpp,'threads':threads}},\n",
    "}\n"
   ]
  },
  {
   "cell_type": "code",
   "execution_count": null,
   "metadata": {},
   "outputs": [],
   "source": [
    "# solve different models\n",
    "models = {}\n",
    "for name,spec in specs.items():\n",
    "    print(f'solving {name}...')\n",
    "    \n",
    "    # setup model\n",
    "    models[name] = lcm.LimitedCommitmentModelClass(name=name,par=spec['par'])\n",
    "    models[name].link_to_cpp(force_compile=False)\n",
    "    models[name].spec = spec\n",
    "    \n",
    "    # solve\n",
    "    models[name].solve()"
   ]
  },
  {
   "cell_type": "markdown",
   "metadata": {},
   "source": [
    "# Simulated paths"
   ]
  },
  {
   "cell_type": "code",
   "execution_count": null,
   "metadata": {},
   "outputs": [],
   "source": [
    "var_list = ('Cw_priv','Cm_priv','Cw_pub','C_tot','A','power','power_idx','love','couple')\n",
    "model_list = ('model 1','model 2','model 3')\n",
    "\n",
    "for init_power_idx in (1,10):\n",
    "    for init_love in (0.0,0.2): \n",
    "\n",
    "            for i,name in enumerate(model_list):\n",
    "                model = models[name]\n",
    "\n",
    "                # show how starting of in a low bargaining power gradually improves\n",
    "                model.sim.init_power_idx[:] = init_power_idx\n",
    "                model.sim.init_love[:] = init_love \n",
    "                model.simulate()\n",
    "                \n",
    "            for var in var_list:\n",
    "\n",
    "                fig, ax = plt.subplots()\n",
    "                \n",
    "                for i,name in enumerate(model_list):\n",
    "                    model = models[name]\n",
    "\n",
    "                    # pick out couples (if not the share of couples is plotted)\n",
    "                    if var == 'couple':\n",
    "                        nan = 0.0\n",
    "                    else:\n",
    "                        I = model.sim.couple<1\n",
    "                        nan = np.zeros(I.shape)\n",
    "                        nan[I] = np.nan\n",
    "\n",
    "                    # pick relevant variable for couples\n",
    "                    y = getattr(model.sim,var)        \n",
    "                    y = np.nanmean(y + nan,axis=0)\n",
    "\n",
    "                    ax.plot(y,marker=markers[i],linestyle=linestyles[i],linewidth=linewidth,label=model.spec['latexname']);\n",
    "                    ax.set(xlabel='age',ylabel=f'{var}');\n",
    "\n",
    "                plt.legend()\n",
    "\n",
    "                fig_name = f'sim {var} init power{np.round(model.par.grid_power[init_power_idx],2)}_love{init_love}'\n",
    "                plt.tight_layout()\n",
    "                plt.savefig(path+fig_name+'.pdf')"
   ]
  },
  {
   "cell_type": "markdown",
   "metadata": {},
   "source": [
    "# Solution"
   ]
  },
  {
   "cell_type": "code",
   "execution_count": null,
   "metadata": {},
   "outputs": [],
   "source": [
    "# Bargaining power updating\n",
    "SAVE = True\n",
    "for model_name in ('model 1','model 4'):\n",
    "    model = models[model_name]\n",
    "    par = model.par\n",
    "    sol = model.sol\n",
    "    \n",
    "    for t in (par.T-1,):\n",
    "        i = 0\n",
    "        for iA in (5,45):\n",
    "            for iL in (par.num_love//2,par.num_love//2 - 1):\n",
    "                for sex in ('women','men'):\n",
    "                    i += 1\n",
    "                    fig, ax = plt.subplots()\n",
    "\n",
    "                    # pick relevant values\n",
    "                    if sex=='women':\n",
    "                        V_single = sol.Vw_single[t,iA]*np.ones(par.num_power)\n",
    "                        V_remain_couple = sol.Vw_remain_couple[t,:,iL,iA]\n",
    "                        V_couple = sol.Vw_couple[t,:,iL,iA]\n",
    "                    else:\n",
    "                        V_single = sol.Vm_single[t,iA]*np.ones(par.num_power)\n",
    "                        V_remain_couple = sol.Vm_remain_couple[t,:,iL,iA]\n",
    "                        V_couple = sol.Vm_couple[t,:,iL,iA]\n",
    "\n",
    "                    # plot values    \n",
    "                    ax.plot(par.grid_power,V_single,linewidth=linewidth,label='value of divorce')\n",
    "                    ax.plot(par.grid_power,V_remain_couple,marker='o',linewidth=linewidth,label='value of remaining couple')\n",
    "                    ax.plot(par.grid_power,V_couple,linewidth=linewidth,linestyle='--',label='value of entering as couple')\n",
    "\n",
    "                    # calculate corssing point\n",
    "                    S = V_remain_couple - V_single\n",
    "                    pos = np.int_(S > 0.0)\n",
    "                    change = pos[1:] - pos[0:-1]\n",
    "                    idx = np.argmax(np.abs(change))\n",
    "                    if sex=='women':\n",
    "                        idx = idx +1\n",
    "\n",
    "                    denom = (par.grid_power[idx+1] - par.grid_power[idx]);\n",
    "                    ratio = (S[idx+1] - S[idx])/denom;\n",
    "                    power_zero = par.grid_power[idx] - S[idx]/ratio;\n",
    "                    x = power_zero\n",
    "                    \n",
    "                    if x>0 and x <1:\n",
    "                        ymin = -1.0\n",
    "                        if t<par.T-1:\n",
    "                            ymin = -5.0\n",
    "                        ax.vlines(x=x, ymin=ymin, ymax=V_single[idx], color='gray',linestyle=':')\n",
    "\n",
    "                        if t==par.T-1: \n",
    "                            if sex=='women':\n",
    "                                ax.text(x,-0.6,'$\\\\rightarrow$',ha='left')\n",
    "                            else:\n",
    "                                ax.text(x,-0.6,'$\\\\leftarrow$',ha='right')\n",
    "\n",
    "                    if t==par.T-1: ax.set(ylim=[-1.0, -0.3],xlabel='$\\mu$ (bargaining power of women)',ylabel='value')\n",
    "\n",
    "                    if i==1: plt.legend();\n",
    "\n",
    "                    fig_name = f'sol bargaining {model_name} {sex} t{t}_love{np.round(par.grid_love[iL]):1.2f}_A{np.round(par.grid_A[iA]):1.2f}'\n",
    "                    plt.tight_layout()\n",
    "                    if SAVE: plt.savefig(path+fig_name+'.pdf')"
   ]
  },
  {
   "cell_type": "markdown",
   "metadata": {},
   "source": [
    "# Policy functions"
   ]
  },
  {
   "cell_type": "code",
   "execution_count": null,
   "metadata": {},
   "outputs": [],
   "source": [
    "SAVE = False\n",
    "cmaps = ('viridis','gray')\n",
    "model_list = ('model 1','model 4')\n",
    "t = 0 #par.T-1 -1\n",
    "\n",
    "par = models['model 1'].par\n",
    "X, Y = np.meshgrid(par.grid_power, par.grid_A,indexing='ij')\n",
    "\n",
    "for iL in (par.num_love//2,): \n",
    "    for var in ('Vw_couple','Vm_couple','Cw_priv_couple','Cm_priv_couple','C_pub_couple','power'):\n",
    "\n",
    "        fig = plt.figure()\n",
    "        ax = plt.axes(projection='3d')\n",
    "        \n",
    "        for i,name in enumerate(model_list):\n",
    "            model = models[name]\n",
    "        \n",
    "            Z = getattr(model.sol,var)[t,:,iL,:]\n",
    "            \n",
    "            alpha = 0.5 if name=='model 1' else 0.7\n",
    "            ax.plot_surface(X, Y, Z,rstride=1,cstride=1,cmap=cmaps[i], edgecolor='none',alpha=alpha);\n",
    "            \n",
    "            if var == 'power': \n",
    "                \n",
    "                ax.set(zlim=[0.0,1.0])\n",
    "            \n",
    "            ax.set(xlabel='$\\mu_{t-1}$',ylabel='$A_{t-1}$');\n",
    "            \n",
    "        fig_name = f'sol {var} t{t}_love{np.round(par.grid_love[iL]):1.2f}'\n",
    "        plt.tight_layout()\n",
    "        if SAVE: plt.savefig(path+fig_name+'.pdf')"
   ]
  }
 ],
 "metadata": {
  "kernelspec": {
   "display_name": "Python 3",
   "language": "python",
   "name": "python3"
  },
  "language_info": {
   "codemirror_mode": {
    "name": "ipython",
    "version": 3
   },
   "file_extension": ".py",
   "mimetype": "text/x-python",
   "name": "python",
   "nbconvert_exporter": "python",
   "pygments_lexer": "ipython3",
   "version": "3.8.10"
  }
 },
 "nbformat": 4,
 "nbformat_minor": 4
}
